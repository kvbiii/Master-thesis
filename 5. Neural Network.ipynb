{
 "cells": [
  {
   "cell_type": "code",
   "execution_count": null,
   "metadata": {},
   "outputs": [],
   "source": [
    "import pandas as pd\n",
    "import numpy as np\n",
    "import sklearn\n",
    "import sklearn.metrics\n",
    "from sklearn.metrics import root_mean_squared_error, mean_squared_error, accuracy_score, roc_auc_score, mean_absolute_error\n",
    "from sklearn.model_selection import train_test_split, KFold\n",
    "import sklearn.model_selection\n",
    "import sklearn.datasets\n",
    "import sklearn.preprocessing\n",
    "from sklearn.preprocessing import StandardScaler, MinMaxScaler, RobustScaler, QuantileTransformer\n",
    "from sklearn.neural_network import MLPRegressor\n",
    "from typing import Tuple, List, Any, Dict, Union\n",
    "import optuna\n",
    "import pickle\n",
    "import warnings\n",
    "warnings.filterwarnings(\"ignore\")\n",
    "\n",
    "SEED = 17\n",
    "compare_metric_name = 'RMSE'"
   ]
  },
  {
   "cell_type": "markdown",
   "metadata": {},
   "source": [
    "## Utils"
   ]
  },
  {
   "cell_type": "code",
   "execution_count": null,
   "metadata": {},
   "outputs": [],
   "source": [
    "def read_table_from_db(table_name):\n",
    "    df = pd.read_sql(f'SELECT * FROM {table_name}', con=DB)\n",
    "    return df"
   ]
  },
  {
   "cell_type": "code",
   "execution_count": 2,
   "metadata": {},
   "outputs": [],
   "source": [
    "def perform_cv(X: pd.DataFrame, y: pd.Series, algorithm: Any, cv: sklearn.model_selection = KFold(n_splits=5, shuffle=True, random_state=SEED), metric: sklearn.metrics = root_mean_squared_error) -> Tuple[List[float], List[float]]:\n",
    "    \"\"\"\n",
    "    Perform cross-validation and return list of scores\n",
    "    \n",
    "    Args:\n",
    "        X (pd.DataFrame): input data\n",
    "        y (pd.Series): target data\n",
    "        algorithm (Any): algorithm to use for training and prediction\n",
    "        cv (sklearn.model_selection, default=KFold(n_splits=5, shuffle=True, random_state=SEED)): cross-validation strategy\n",
    "        metric (sklearn.metrics, default=root_mean_squared_error): metric to use for evaluation\n",
    "    \n",
    "    Returns:\n",
    "        Tuple[List[float], List[float]]: Tuple of lists of train and validation scores\n",
    "    \"\"\"\n",
    "    train_scores, validation_scores = [], []\n",
    "    for train_idx, val_idx in cv.split(X, y):\n",
    "        X_train, X_val = X.iloc[train_idx], X.iloc[val_idx]\n",
    "        y_train, y_val = y.iloc[train_idx], y.iloc[val_idx]\n",
    "        algorithm.fit(X_train, y_train)\n",
    "        y_train_pred = algorithm.predict(X_train)\n",
    "        y_val_pred = algorithm.predict(X_val)\n",
    "        train_scores.append(metric(y_train, y_train_pred))\n",
    "        validation_scores.append(metric(y_val, y_val_pred))\n",
    "    return train_scores, validation_scores\n",
    "\n",
    "def evaluation(X_train: pd.DataFrame, y_train: pd.Series, X_test: pd.DataFrame, y_test: pd.Series, algorithm: Any, metric: sklearn.metrics = root_mean_squared_error) -> Tuple[float, float, np.ndarray]:\n",
    "    \"\"\"\n",
    "    Train the algorithm on the train data and evaluate on the train and test data\n",
    "    \n",
    "    Args:\n",
    "        X_train (pd.DataFrame): input train data\n",
    "        y_train (pd.Series): target train data\n",
    "        X_test (pd.DataFrame): input test data\n",
    "        y_test (pd.Series): target test data\n",
    "        algorithm (Any): algorithm to use for training and prediction\n",
    "        metric (sklearn.metrics, default=root_mean_squared_error): metric to use for evaluation\n",
    "    \n",
    "    Returns:\n",
    "        Tuple[float, float, np.ndarray]: train_score, test_score, predictions on test data\n",
    "    \"\"\"\n",
    "    algorithm.fit(X_train, y_train)\n",
    "    y_train_pred = algorithm.predict(X_train)\n",
    "    y_test_pred = algorithm.predict(X_test)\n",
    "    train_results = metric(y_train, y_train_pred)\n",
    "    test_results = metric(y_test, y_test_pred)\n",
    "    return train_results, test_results, y_test_pred"
   ]
  },
  {
   "cell_type": "markdown",
   "metadata": {},
   "source": [
    "# Load dataset"
   ]
  },
  {
   "cell_type": "code",
   "execution_count": 3,
   "metadata": {},
   "outputs": [
    {
     "data": {
      "text/html": [
       "<div>\n",
       "<style scoped>\n",
       "    .dataframe tbody tr th:only-of-type {\n",
       "        vertical-align: middle;\n",
       "    }\n",
       "\n",
       "    .dataframe tbody tr th {\n",
       "        vertical-align: top;\n",
       "    }\n",
       "\n",
       "    .dataframe thead th {\n",
       "        text-align: right;\n",
       "    }\n",
       "</style>\n",
       "<table border=\"1\" class=\"dataframe\">\n",
       "  <thead>\n",
       "    <tr style=\"text-align: right;\">\n",
       "      <th></th>\n",
       "      <th>host_is_superhost</th>\n",
       "      <th>host_has_profile_pic</th>\n",
       "      <th>host_identity_verified</th>\n",
       "      <th>accommodates</th>\n",
       "      <th>bedrooms</th>\n",
       "      <th>beds</th>\n",
       "      <th>minimum_nights</th>\n",
       "      <th>maximum_nights</th>\n",
       "      <th>availability_30</th>\n",
       "      <th>availability_365</th>\n",
       "      <th>...</th>\n",
       "      <th>number_of_education_institutions_within_100m</th>\n",
       "      <th>distance_to_nearest_cultural_institution_m</th>\n",
       "      <th>number_of_cultural_institutions_within_100m</th>\n",
       "      <th>distance_to_nearest_recreation_point_m</th>\n",
       "      <th>number_of_recreation_points_within_100m</th>\n",
       "      <th>distance_to_nearest_religious_institution_m</th>\n",
       "      <th>number_of_religious_institutions_within_100m</th>\n",
       "      <th>distance_to_nearest_health_institution_m</th>\n",
       "      <th>number_of_health_institutions_within_100m</th>\n",
       "      <th>distance_to_nearest_main_attraction_m</th>\n",
       "    </tr>\n",
       "  </thead>\n",
       "  <tbody>\n",
       "    <tr>\n",
       "      <th>0</th>\n",
       "      <td>0</td>\n",
       "      <td>1</td>\n",
       "      <td>1</td>\n",
       "      <td>1</td>\n",
       "      <td>0.0</td>\n",
       "      <td>1.0</td>\n",
       "      <td>30</td>\n",
       "      <td>1125</td>\n",
       "      <td>0</td>\n",
       "      <td>248</td>\n",
       "      <td>...</td>\n",
       "      <td>0</td>\n",
       "      <td>264.899</td>\n",
       "      <td>0</td>\n",
       "      <td>74.9974</td>\n",
       "      <td>1</td>\n",
       "      <td>113.311</td>\n",
       "      <td>0</td>\n",
       "      <td>748.997</td>\n",
       "      <td>0</td>\n",
       "      <td>497.315</td>\n",
       "    </tr>\n",
       "    <tr>\n",
       "      <th>1</th>\n",
       "      <td>0</td>\n",
       "      <td>1</td>\n",
       "      <td>1</td>\n",
       "      <td>2</td>\n",
       "      <td>1.0</td>\n",
       "      <td>1.0</td>\n",
       "      <td>30</td>\n",
       "      <td>150</td>\n",
       "      <td>0</td>\n",
       "      <td>233</td>\n",
       "      <td>...</td>\n",
       "      <td>1</td>\n",
       "      <td>114.917</td>\n",
       "      <td>0</td>\n",
       "      <td>157.0960</td>\n",
       "      <td>0</td>\n",
       "      <td>143.338</td>\n",
       "      <td>0</td>\n",
       "      <td>798.512</td>\n",
       "      <td>0</td>\n",
       "      <td>5687.510</td>\n",
       "    </tr>\n",
       "    <tr>\n",
       "      <th>2</th>\n",
       "      <td>0</td>\n",
       "      <td>1</td>\n",
       "      <td>1</td>\n",
       "      <td>4</td>\n",
       "      <td>2.0</td>\n",
       "      <td>2.0</td>\n",
       "      <td>30</td>\n",
       "      <td>730</td>\n",
       "      <td>0</td>\n",
       "      <td>121</td>\n",
       "      <td>...</td>\n",
       "      <td>1</td>\n",
       "      <td>419.009</td>\n",
       "      <td>0</td>\n",
       "      <td>375.3300</td>\n",
       "      <td>0</td>\n",
       "      <td>201.431</td>\n",
       "      <td>0</td>\n",
       "      <td>607.539</td>\n",
       "      <td>0</td>\n",
       "      <td>5139.470</td>\n",
       "    </tr>\n",
       "    <tr>\n",
       "      <th>3</th>\n",
       "      <td>1</td>\n",
       "      <td>1</td>\n",
       "      <td>1</td>\n",
       "      <td>3</td>\n",
       "      <td>2.0</td>\n",
       "      <td>1.0</td>\n",
       "      <td>30</td>\n",
       "      <td>730</td>\n",
       "      <td>0</td>\n",
       "      <td>157</td>\n",
       "      <td>...</td>\n",
       "      <td>1</td>\n",
       "      <td>441.078</td>\n",
       "      <td>0</td>\n",
       "      <td>122.0370</td>\n",
       "      <td>0</td>\n",
       "      <td>489.013</td>\n",
       "      <td>0</td>\n",
       "      <td>867.072</td>\n",
       "      <td>0</td>\n",
       "      <td>5022.830</td>\n",
       "    </tr>\n",
       "    <tr>\n",
       "      <th>4</th>\n",
       "      <td>0</td>\n",
       "      <td>1</td>\n",
       "      <td>1</td>\n",
       "      <td>1</td>\n",
       "      <td>1.0</td>\n",
       "      <td>1.0</td>\n",
       "      <td>30</td>\n",
       "      <td>180</td>\n",
       "      <td>30</td>\n",
       "      <td>365</td>\n",
       "      <td>...</td>\n",
       "      <td>0</td>\n",
       "      <td>571.057</td>\n",
       "      <td>0</td>\n",
       "      <td>108.9370</td>\n",
       "      <td>0</td>\n",
       "      <td>157.284</td>\n",
       "      <td>0</td>\n",
       "      <td>262.918</td>\n",
       "      <td>0</td>\n",
       "      <td>2800.150</td>\n",
       "    </tr>\n",
       "  </tbody>\n",
       "</table>\n",
       "<p>5 rows × 114 columns</p>\n",
       "</div>"
      ],
      "text/plain": [
       "   host_is_superhost  host_has_profile_pic  host_identity_verified  \\\n",
       "0                  0                     1                       1   \n",
       "1                  0                     1                       1   \n",
       "2                  0                     1                       1   \n",
       "3                  1                     1                       1   \n",
       "4                  0                     1                       1   \n",
       "\n",
       "   accommodates  bedrooms  beds  minimum_nights  maximum_nights  \\\n",
       "0             1       0.0   1.0              30            1125   \n",
       "1             2       1.0   1.0              30             150   \n",
       "2             4       2.0   2.0              30             730   \n",
       "3             3       2.0   1.0              30             730   \n",
       "4             1       1.0   1.0              30             180   \n",
       "\n",
       "   availability_30  availability_365  ...  \\\n",
       "0                0               248  ...   \n",
       "1                0               233  ...   \n",
       "2                0               121  ...   \n",
       "3                0               157  ...   \n",
       "4               30               365  ...   \n",
       "\n",
       "   number_of_education_institutions_within_100m  \\\n",
       "0                                             0   \n",
       "1                                             1   \n",
       "2                                             1   \n",
       "3                                             1   \n",
       "4                                             0   \n",
       "\n",
       "   distance_to_nearest_cultural_institution_m  \\\n",
       "0                                     264.899   \n",
       "1                                     114.917   \n",
       "2                                     419.009   \n",
       "3                                     441.078   \n",
       "4                                     571.057   \n",
       "\n",
       "   number_of_cultural_institutions_within_100m  \\\n",
       "0                                            0   \n",
       "1                                            0   \n",
       "2                                            0   \n",
       "3                                            0   \n",
       "4                                            0   \n",
       "\n",
       "   distance_to_nearest_recreation_point_m  \\\n",
       "0                                 74.9974   \n",
       "1                                157.0960   \n",
       "2                                375.3300   \n",
       "3                                122.0370   \n",
       "4                                108.9370   \n",
       "\n",
       "   number_of_recreation_points_within_100m  \\\n",
       "0                                        1   \n",
       "1                                        0   \n",
       "2                                        0   \n",
       "3                                        0   \n",
       "4                                        0   \n",
       "\n",
       "   distance_to_nearest_religious_institution_m  \\\n",
       "0                                      113.311   \n",
       "1                                      143.338   \n",
       "2                                      201.431   \n",
       "3                                      489.013   \n",
       "4                                      157.284   \n",
       "\n",
       "   number_of_religious_institutions_within_100m  \\\n",
       "0                                             0   \n",
       "1                                             0   \n",
       "2                                             0   \n",
       "3                                             0   \n",
       "4                                             0   \n",
       "\n",
       "   distance_to_nearest_health_institution_m  \\\n",
       "0                                   748.997   \n",
       "1                                   798.512   \n",
       "2                                   607.539   \n",
       "3                                   867.072   \n",
       "4                                   262.918   \n",
       "\n",
       "   number_of_health_institutions_within_100m  \\\n",
       "0                                          0   \n",
       "1                                          0   \n",
       "2                                          0   \n",
       "3                                          0   \n",
       "4                                          0   \n",
       "\n",
       "   distance_to_nearest_main_attraction_m  \n",
       "0                                497.315  \n",
       "1                               5687.510  \n",
       "2                               5139.470  \n",
       "3                               5022.830  \n",
       "4                               2800.150  \n",
       "\n",
       "[5 rows x 114 columns]"
      ]
     },
     "execution_count": 3,
     "metadata": {},
     "output_type": "execute_result"
    }
   ],
   "source": [
    "data = read_table_from_db('airbnb_data')\n",
    "target_feature = 'log_price'\n",
    "categorical_features = data.columns[data.nunique() == 2].tolist()\n",
    "continuous_features = data.columns.drop(categorical_features + [target_feature]).tolist()\n",
    "independent_features = continuous_features + categorical_features\n",
    "data.head()"
   ]
  },
  {
   "cell_type": "markdown",
   "metadata": {},
   "source": [
    "## Split dataset"
   ]
  },
  {
   "cell_type": "code",
   "execution_count": 4,
   "metadata": {},
   "outputs": [],
   "source": [
    "train_data, test_data = train_test_split(data, test_size=0.2, random_state=SEED)"
   ]
  },
  {
   "cell_type": "markdown",
   "metadata": {},
   "source": [
    "## Base model"
   ]
  },
  {
   "cell_type": "code",
   "execution_count": 5,
   "metadata": {},
   "outputs": [
    {
     "name": "stdout",
     "output_type": "stream",
     "text": [
      "Train RMSE: 3.1555 +- 2.0791\n",
      "Validation RMSE: 3.1960 +- 2.0395\n"
     ]
    }
   ],
   "source": [
    "model = MLPRegressor(random_state=SEED)\n",
    "train_scores, validation_scores = perform_cv(train_data[independent_features], train_data[target_feature], model, cv=KFold(n_splits=5, shuffle=True, random_state=SEED), metric=root_mean_squared_error)\n",
    "print(f\"Train {compare_metric_name}: {np.mean(train_scores):.4f} +- {np.std(train_scores):.4f}\")\n",
    "print(f\"Validation {compare_metric_name}: {np.mean(validation_scores):.4f} +- {np.std(validation_scores):.4f}\")"
   ]
  },
  {
   "cell_type": "markdown",
   "metadata": {},
   "source": [
    "Neural networks are algorithms that are sensitive to the scale of data.\n",
    "\n",
    "In a situation where the data is not normalized, the algorithm may have trouble finding the optimal weights.\n",
    "\n",
    "This happens because when we multiply the data by the weights, the resulting matrices will have different values, which can lead to optimization problems.\n",
    "\n",
    "We will use and compare several scaling methods to test whether the results will improve."
   ]
  },
  {
   "cell_type": "code",
   "execution_count": 6,
   "metadata": {},
   "outputs": [],
   "source": [
    "def perform_cv_scaling(X: pd.DataFrame, y: pd.Series, algorithm: Any, cv: sklearn.model_selection = KFold(n_splits=5, shuffle=True, random_state=SEED), metric: sklearn.metrics = root_mean_squared_error, scaler: sklearn.preprocessing = None, features_to_scale: List[str] = None, target_to_scale: bool = False) -> Tuple[List[float], List[float]]:\n",
    "    \"\"\"\n",
    "    Perform cross-validation with scaling and return list of scores\n",
    "    \n",
    "    Args:\n",
    "        X (pd.DataFrame): input data\n",
    "        y (pd.Series): target data\n",
    "        algorithm (Any): algorithm to use for training and prediction\n",
    "        cv (sklearn.model_selection, default=KFold(n_splits=5, shuffle=True, random_state=SEED)): cross-validation strategy\n",
    "        metric (sklearn.metrics, default=root_mean_squared_error): metric to use for evaluation\n",
    "        scaler (sklearn.preprocessing, default=None): scaler to use\n",
    "        features_to_scale (List[str], default=None): list of features to scale\n",
    "        target_to_scale (bool, default=False): whether to scale target\n",
    "    \n",
    "    Returns:\n",
    "        Tuple[List[float], List[float]]: Tuple of lists of train and validation scores\n",
    "    \"\"\"\n",
    "    train_scores, validation_scores = [], []\n",
    "    for train_idx, val_idx in cv.split(X, y):\n",
    "        X_train, X_val = X.iloc[train_idx], X.iloc[val_idx]\n",
    "        y_train, y_val = y.iloc[train_idx], y.iloc[val_idx]\n",
    "        X_train[features_to_scale] = scaler.fit_transform(X_train[features_to_scale])\n",
    "        X_val[features_to_scale] = scaler.transform(X_val[features_to_scale])\n",
    "        if target_to_scale:\n",
    "            y_train = scaler.fit_transform(y_train.values.reshape(-1, 1)).ravel()\n",
    "            y_val = scaler.transform(y_val.values.reshape(-1, 1)).ravel()    \n",
    "        algorithm.fit(X_train, y_train)\n",
    "        y_train_pred = algorithm.predict(X_train)\n",
    "        y_val_pred = algorithm.predict(X_val)\n",
    "        if(target_to_scale):\n",
    "            y_train = scaler.inverse_transform(y_train.reshape(-1, 1)).ravel()\n",
    "            y_val = scaler.inverse_transform(y_val.reshape(-1, 1)).ravel()\n",
    "            y_train_pred = scaler.inverse_transform(y_train_pred.reshape(-1, 1)).ravel()\n",
    "            y_val_pred = scaler.inverse_transform(y_val_pred.reshape(-1, 1)).ravel()\n",
    "        train_scores.append(metric(y_train, y_train_pred))\n",
    "        validation_scores.append(metric(y_val, y_val_pred))\n",
    "    return train_scores, validation_scores\n",
    "\n",
    "def evaluation_scaling(X_train: pd.DataFrame, y_train: pd.Series, X_test: pd.DataFrame, y_test: pd.Series, algorithm: Any, metric: sklearn.metrics = root_mean_squared_error, scaler: sklearn.preprocessing = None, features_to_scale: List[str] = None, target_to_scale: bool = False) -> Tuple[float, float, np.ndarray]:\n",
    "    \"\"\"\n",
    "    Train the algorithm on the train data with scaling and evaluate on the train and test data\n",
    "    \n",
    "    Args:\n",
    "        X_train (pd.DataFrame): input train data\n",
    "        y_train (pd.Series): target train data\n",
    "        X_test (pd.DataFrame): input test data\n",
    "        y_test (pd.Series): target test data\n",
    "        algorithm (Any): algorithm to use for training and prediction\n",
    "        metric (sklearn.metrics, default=root_mean_squared_error): metric to use for evaluation\n",
    "        scaler (sklearn.preprocessing, default=None): scaler to use\n",
    "        features_to_scale (List[str], default=None): list of features to scale\n",
    "        target_to_scale (bool, default=False): whether to scale target\n",
    "    \n",
    "    Returns:\n",
    "        Tuple[float, float, np.ndarray]: train_score, test_score, predictions on test data\n",
    "    \"\"\"\n",
    "    X_train[features_to_scale] = scaler.fit_transform(X_train[features_to_scale])\n",
    "    X_test[features_to_scale] = scaler.transform(X_test[features_to_scale])\n",
    "    if target_to_scale:\n",
    "        y_train = scaler.fit_transform(y_train.values.reshape(-1, 1)).ravel()\n",
    "        y_test = scaler.transform(y_test.values.reshape(-1, 1)).ravel()\n",
    "    algorithm.fit(X_train, y_train)\n",
    "    y_train_pred = algorithm.predict(X_train)\n",
    "    y_test_pred = algorithm.predict(X_test)\n",
    "    if target_to_scale:\n",
    "        y_train = scaler.inverse_transform(y_train.reshape(-1, 1)).ravel()\n",
    "        y_test = scaler.inverse_transform(y_test.reshape(-1, 1)).ravel()\n",
    "        y_train_pred = scaler.inverse_transform(y_train_pred.reshape(-1, 1)).ravel()\n",
    "        y_test_pred = scaler.inverse_transform(y_test_pred.reshape(-1, 1)).ravel()\n",
    "    train_results = metric(y_train, y_train_pred)\n",
    "    test_results = metric(y_test, y_test_pred)\n",
    "    return train_results, test_results, y_test_pred"
   ]
  },
  {
   "cell_type": "code",
   "execution_count": 7,
   "metadata": {},
   "outputs": [
    {
     "name": "stdout",
     "output_type": "stream",
     "text": [
      "StandardScaler:\n",
      "Train RMSE: 0.2799 +- 0.0079\n",
      "Validation RMSE: 0.4596 +- 0.005106693589066525\n",
      "\n",
      "MinMaxScaler:\n",
      "Train RMSE: 0.3078 +- 0.0087\n",
      "Validation RMSE: 0.4610 +- 0.008429642955367054\n",
      "\n",
      "RobustScaler:\n",
      "Train RMSE: 0.2957 +- 0.0163\n",
      "Validation RMSE: 0.4525 +- 0.004602876458793384\n",
      "\n",
      "QuantileTransformer:\n",
      "Train RMSE: 0.3017 +- 0.0043\n",
      "Validation RMSE: 0.4790 +- 0.008284450296654576\n",
      "\n"
     ]
    }
   ],
   "source": [
    "scalers = {\n",
    "    \"StandardScaler\": StandardScaler(),\n",
    "    \"MinMaxScaler\": MinMaxScaler(),\n",
    "    \"RobustScaler\": RobustScaler(),\n",
    "    \"QuantileTransformer\": QuantileTransformer()\n",
    "}\n",
    "for scaler_name, scaler in scalers.items():\n",
    "    train_scores, validation_scores = perform_cv_scaling(train_data[independent_features], train_data[target_feature], model, cv=KFold(n_splits=5, shuffle=True, random_state=SEED), metric=root_mean_squared_error, scaler=scaler, features_to_scale=continuous_features, target_to_scale=False)\n",
    "    print(f\"{scaler_name}:\")\n",
    "    print(f\"Train {compare_metric_name}: {np.mean(train_scores):.4f} +- {np.std(train_scores):.4f}\")\n",
    "    print(f\"Validation {compare_metric_name}: {np.mean(validation_scores):.4f} +- {np.std(validation_scores)}\")\n",
    "    print()"
   ]
  },
  {
   "cell_type": "markdown",
   "metadata": {},
   "source": [
    "As we can see after applying any of the scaling methods, the results are better than before.\n",
    "\n",
    "Best validation scores are obtained for RobustScaler which I will use in the next steps.\n",
    "\n",
    "We can check the results once again after applying the RobustScaler."
   ]
  },
  {
   "cell_type": "code",
   "execution_count": 8,
   "metadata": {},
   "outputs": [
    {
     "name": "stdout",
     "output_type": "stream",
     "text": [
      "Train RMSE: 0.2957 +- 0.0163\n",
      "Validation RMSE: 0.4525 +- 0.004602876458793384\n"
     ]
    }
   ],
   "source": [
    "model = MLPRegressor(random_state=SEED)\n",
    "scaler = RobustScaler()\n",
    "train_scores, validation_scores = perform_cv_scaling(train_data[independent_features], train_data[target_feature], model, cv=KFold(n_splits=5, shuffle=True, random_state=SEED), metric=root_mean_squared_error, scaler=scaler, features_to_scale=continuous_features, target_to_scale=False)\n",
    "print(f\"Train {compare_metric_name}: {np.mean(train_scores):.4f} +- {np.std(train_scores):.4f}\")\n",
    "print(f\"Validation {compare_metric_name}: {np.mean(validation_scores):.4f} +- {np.std(validation_scores)}\")"
   ]
  },
  {
   "cell_type": "code",
   "execution_count": 9,
   "metadata": {},
   "outputs": [
    {
     "name": "stdout",
     "output_type": "stream",
     "text": [
      "Hidden layer sizes: (20, 20)\n",
      "Train RMSE: 0.3679 +- 0.0026\n",
      "Validation RMSE: 0.4244 +- 0.005529944953902177\n",
      "\n"
     ]
    }
   ],
   "source": [
    "hidden_layer_sizes = [(20, 20)]\n",
    "for hidden_layer_size in hidden_layer_sizes:\n",
    "    model = MLPRegressor(hidden_layer_sizes=hidden_layer_size, random_state=SEED)\n",
    "    train_scores, validation_scores = perform_cv_scaling(train_data[list(independent_features)], train_data[target_feature], model, cv=KFold(n_splits=5, shuffle=True, random_state=SEED), metric=root_mean_squared_error, scaler=scaler, features_to_scale=list(continuous_features), target_to_scale=False)\n",
    "    print(f\"Hidden layer sizes: {hidden_layer_size}\")\n",
    "    print(f\"Train {compare_metric_name}: {np.mean(train_scores):.4f} +- {np.std(train_scores):.4f}\")\n",
    "    print(f\"Validation {compare_metric_name}: {np.mean(validation_scores):.4f} +- {np.std(validation_scores)}\\n\")"
   ]
  },
  {
   "cell_type": "markdown",
   "metadata": {},
   "source": [
    "## Feature selection"
   ]
  },
  {
   "cell_type": "markdown",
   "metadata": {},
   "source": [
    "Although we have not selected features for XGBoost (which is a tree based model that select features by itself), for neural network it might be beneficial to reduce the number of features.\n",
    "\n",
    "We will use Mutual Information to select the most important features.\n",
    "\n",
    "The algorithm will look as follows:\n",
    "\n",
    "1. Calculate the mutual information between each feature and the target.\n",
    "\n",
    "2. Sort the features by the mutual information in descending order.\n",
    "\n",
    "3. Select top:\n",
    "- 25% of features\n",
    "- 50% of features\n",
    "- 75% of features\n",
    "- 90% of features\n",
    "- 100% of features\n",
    "\n",
    "For each subset of features, we will train the model and compare the results.\n",
    "\n",
    "4. Compare the results and select the best subset of features."
   ]
  },
  {
   "cell_type": "code",
   "execution_count": 10,
   "metadata": {},
   "outputs": [
    {
     "data": {
      "image/png": "[encoded data removed]"
     },
     "metadata": {},
     "output_type": "display_data"
    }
   ],
   "source": [
    "from sklearn.feature_selection import mutual_info_regression\n",
    "import plotly.graph_objects as go\n",
    "mi_scores = {feature: mutual_info_regression(train_data[[feature]], train_data[target_feature], random_state=SEED)[0] for feature in independent_features}\n",
    "mi_scores = {k: v for k, v in sorted(mi_scores.items(), key=lambda item: item[1], reverse=True)}\n",
    "fig = go.Figure()\n",
    "fig.add_trace(go.Scatter(x=list(mi_scores.keys()), y=list(mi_scores.values()), mode='lines+markers', marker=dict(size=10, color=\"blue\", line=dict(width=2, color=\"black\")), line=dict(width=2, color=\"blue\")))\n",
    "fig.update_layout(template=\"simple_white\", width=1200, height=800, title=\"<b>Mutual Information<b>\", title_x=0.5, xaxis_title=\"Feature\", yaxis_title=f\"Mutual Information\", font=dict(family=\"Times New Roman\",size=16,color=\"Black\"), showlegend=False)\n",
    "fig.show(\"png\")"
   ]
  },
  {
   "cell_type": "code",
   "execution_count": 11,
   "metadata": {},
   "outputs": [
    {
     "name": "stdout",
     "output_type": "stream",
     "text": [
      "Percentage of features: 100.00%\n",
      "Train RMSE: 0.2933 +- 0.0094\n",
      "Validation RMSE: 0.4583 +- 0.0029\n",
      "\n",
      "Percentage of features: 100.00%\n",
      "Train RMSE: 0.2933 +- 0.0094\n",
      "Validation RMSE: 0.4583 +- 0.0029\n",
      "\n",
      "Percentage of features: 50.44%\n",
      "Train RMSE: 0.3526 +- 0.0105\n",
      "Validation RMSE: 0.4359 +- 0.0105\n",
      "\n",
      "Percentage of features: 25.66%\n",
      "Train RMSE: 0.4056 +- 0.0064\n",
      "Validation RMSE: 0.4565 +- 0.0104\n",
      "\n",
      "Percentage of features: 10.62%\n",
      "Train RMSE: 0.4740 +- 0.0015\n",
      "Validation RMSE: 0.4898 +- 0.0074\n",
      "\n"
     ]
    }
   ],
   "source": [
    "avg_train_scores, avg_validation_scores, percentages = [], [], []\n",
    "proportions_of_subset = [1.0, 0.75, 0.5, 0.25, 0.1]\n",
    "for proportion in proportions_of_subset:\n",
    "    threshold = np.quantile(list(mi_scores.values()), 1-proportion)\n",
    "    features_to_drop = [k for k, v in mi_scores.items() if v < threshold]\n",
    "    subset = set(independent_features) - set(features_to_drop)\n",
    "    features_to_scale = subset - set(categorical_features)\n",
    "    model = MLPRegressor(random_state=SEED)\n",
    "    train_scores, validation_scores = perform_cv_scaling(train_data[list(subset)], train_data[target_feature], model, cv=KFold(n_splits=5, shuffle=True, random_state=SEED), metric=root_mean_squared_error, scaler=scaler, features_to_scale=list(features_to_scale), target_to_scale=False)\n",
    "    print(f\"Percentage of features: {len(subset)/len(independent_features)*100:.2f}%\")\n",
    "    print(f\"Train {compare_metric_name}: {np.mean(train_scores):.4f} +- {np.std(train_scores):.4f}\")\n",
    "    print(f\"Validation {compare_metric_name}: {np.mean(validation_scores):.4f} +- {np.std(validation_scores):.4f}\\n\")\n",
    "    avg_train_scores.append(np.mean(train_scores))\n",
    "    avg_validation_scores.append(np.mean(validation_scores))\n",
    "    percentages.append(np.round(len(subset)/len(independent_features)*100, 2))"
   ]
  },
  {
   "cell_type": "code",
   "execution_count": 12,
   "metadata": {},
   "outputs": [
    {
     "data": {
      "image/png": "[encoded data removed]"
     },
     "metadata": {},
     "output_type": "display_data"
    }
   ],
   "source": [
    "fig = go.Figure()\n",
    "fig.add_trace(go.Scatter(x=percentages, y=avg_train_scores, mode='lines+markers', name=\"Train\", marker=dict(size=10, color=\"blue\", line=dict(width=2, color=\"black\")), line=dict(width=2, color=\"blue\")))\n",
    "fig.add_trace(go.Scatter(x=percentages, y=avg_validation_scores, mode='lines+markers', name=\"Validation\", marker=dict(size=10, color=\"red\", line=dict(width=2, color=\"black\")), line=dict(width=2, color=\"red\")))\n",
    "fig.update_layout(template=\"simple_white\", width=1200, height=800, title=\"<b>Feature Selection<b>\", title_x=0.5, xaxis_title=\"Percentage of features\", yaxis_title=\"RMSE\", font=dict(family=\"Times New Roman\",size=16,color=\"Black\"))\n",
    "fig.show(\"png\")"
   ]
  },
  {
   "cell_type": "markdown",
   "metadata": {},
   "source": [
    "As we can see selecting only 50.44% features (those which exceeds the 50th percentile of mutual information) gives better validation score than using all features.\n",
    "\n",
    "We will further investigate range of features from 30th to 70th percentile of mutual information."
   ]
  },
  {
   "cell_type": "code",
   "execution_count": 13,
   "metadata": {},
   "outputs": [
    {
     "name": "stdout",
     "output_type": "stream",
     "text": [
      "Percentage of features: 100.00%\n",
      "Train RMSE: 0.2933 +- 0.0094\n",
      "Validation RMSE: 0.4583 +- 0.0029\n",
      "\n",
      "Percentage of features: 64.60%\n",
      "Train RMSE: 0.3222 +- 0.0055\n",
      "Validation RMSE: 0.4329 +- 0.0042\n",
      "\n",
      "Percentage of features: 60.18%\n",
      "Train RMSE: 0.3230 +- 0.0059\n",
      "Validation RMSE: 0.4368 +- 0.0071\n",
      "\n",
      "Percentage of features: 54.87%\n",
      "Train RMSE: 0.3314 +- 0.0069\n",
      "Validation RMSE: 0.4377 +- 0.0047\n",
      "\n",
      "Percentage of features: 50.44%\n",
      "Train RMSE: 0.3526 +- 0.0105\n",
      "Validation RMSE: 0.4359 +- 0.0105\n",
      "\n",
      "Percentage of features: 45.13%\n",
      "Train RMSE: 0.3508 +- 0.0050\n",
      "Validation RMSE: 0.4335 +- 0.0037\n",
      "\n",
      "Percentage of features: 39.82%\n",
      "Train RMSE: 0.3736 +- 0.0055\n",
      "Validation RMSE: 0.4409 +- 0.0065\n",
      "\n",
      "Percentage of features: 35.40%\n",
      "Train RMSE: 0.3755 +- 0.0148\n",
      "Validation RMSE: 0.4414 +- 0.0109\n",
      "\n",
      "Percentage of features: 30.09%\n",
      "Train RMSE: 0.3878 +- 0.0214\n",
      "Validation RMSE: 0.4442 +- 0.0174\n",
      "\n"
     ]
    }
   ],
   "source": [
    "avg_train_scores, avg_validation_scores, percentages = [], [], []\n",
    "proportions_of_subset = [0.7, 0.65, 0.6, 0.55, 0.5, 0.45, 0.4, 0.35, 0.3]\n",
    "for proportion in proportions_of_subset:\n",
    "    threshold = np.quantile(list(mi_scores.values()), 1-proportion)\n",
    "    features_to_drop = [k for k, v in mi_scores.items() if v < threshold]\n",
    "    subset = set(independent_features) - set(features_to_drop)\n",
    "    features_to_scale = subset - set(categorical_features)\n",
    "    model = MLPRegressor(random_state=SEED)\n",
    "    train_scores, validation_scores = perform_cv_scaling(train_data[list(subset)], train_data[target_feature], model, cv=KFold(n_splits=5, shuffle=True, random_state=SEED), metric=root_mean_squared_error, scaler=scaler, features_to_scale=list(features_to_scale), target_to_scale=False)\n",
    "    print(f\"Percentage of features: {len(subset)/len(independent_features)*100:.2f}%\")\n",
    "    print(f\"Train {compare_metric_name}: {np.mean(train_scores):.4f} +- {np.std(train_scores):.4f}\")\n",
    "    print(f\"Validation {compare_metric_name}: {np.mean(validation_scores):.4f} +- {np.std(validation_scores):.4f}\\n\")\n",
    "    avg_train_scores.append(np.mean(train_scores))\n",
    "    avg_validation_scores.append(np.mean(validation_scores))\n",
    "    percentages.append(np.round(len(subset)/len(independent_features)*100, 2))"
   ]
  },
  {
   "cell_type": "code",
   "execution_count": 14,
   "metadata": {},
   "outputs": [
    {
     "data": {
      "image/png": "[encoded data removed]"
     },
     "metadata": {},
     "output_type": "display_data"
    }
   ],
   "source": [
    "fig = go.Figure()\n",
    "fig.add_trace(go.Scatter(x=percentages, y=avg_train_scores, mode='lines+markers', name=\"Train\", marker=dict(size=10, color=\"blue\", line=dict(width=2, color=\"black\")), line=dict(width=2, color=\"blue\")))\n",
    "fig.add_trace(go.Scatter(x=percentages, y=avg_validation_scores, mode='lines+markers', name=\"Validation\", marker=dict(size=10, color=\"red\", line=dict(width=2, color=\"black\")), line=dict(width=2, color=\"red\")))\n",
    "fig.update_layout(template=\"simple_white\", width=1200, height=800, title=\"<b>Feature Selection<b>\", title_x=0.5, xaxis_title=\"Percentage of features\", yaxis_title=\"RMSE\", font=dict(family=\"Times New Roman\",size=16,color=\"Black\"))\n",
    "fig.show(\"png\")"
   ]
  },
  {
   "cell_type": "markdown",
   "metadata": {},
   "source": [
    "It looks like the best average validation score is obtained for ~50% best (based on Mutual Information) features, so we will use this subset of variables for further analysis."
   ]
  },
  {
   "cell_type": "code",
   "execution_count": 15,
   "metadata": {},
   "outputs": [
    {
     "name": "stdout",
     "output_type": "stream",
     "text": [
      "Percentage of features: 50.44%\n",
      "Train RMSE: 0.3526 +- 0.0105\n",
      "Validation RMSE: 0.4359 +- 0.0105\n"
     ]
    }
   ],
   "source": [
    "proportion_of_subset = 0.5\n",
    "threshold = np.quantile(list(mi_scores.values()), 1-proportion_of_subset)\n",
    "features_to_drop = [k for k, v in mi_scores.items() if v < threshold]\n",
    "best_subset = set(independent_features) - set(features_to_drop)\n",
    "features_to_scale = best_subset - set(categorical_features)\n",
    "model = MLPRegressor(random_state=SEED)\n",
    "train_scores, validation_scores = perform_cv_scaling(train_data[list(best_subset)], train_data[target_feature], model, cv=KFold(n_splits=5, shuffle=True, random_state=SEED), metric=root_mean_squared_error, scaler=scaler, features_to_scale=list(features_to_scale), target_to_scale=False)\n",
    "print(f\"Percentage of features: {len(best_subset)/len(independent_features)*100:.2f}%\")\n",
    "print(f\"Train {compare_metric_name}: {np.mean(train_scores):.4f} +- {np.std(train_scores):.4f}\")\n",
    "print(f\"Validation {compare_metric_name}: {np.mean(validation_scores):.4f} +- {np.std(validation_scores):.4f}\")"
   ]
  },
  {
   "cell_type": "markdown",
   "metadata": {},
   "source": [
    "There is still room for improvement, so we will try to tune the hyperparameters of the model."
   ]
  },
  {
   "cell_type": "markdown",
   "metadata": {},
   "source": [
    "# Hyperparameter optimization"
   ]
  },
  {
   "cell_type": "markdown",
   "metadata": {},
   "source": [
    "## `hidden_layer_sizes`"
   ]
  },
  {
   "cell_type": "markdown",
   "metadata": {},
   "source": [
    "`hidden_layer_sizes` is a parameter that defines the number of neurons in each layer and the number of layers in the model."
   ]
  },
  {
   "cell_type": "code",
   "execution_count": 16,
   "metadata": {},
   "outputs": [
    {
     "name": "stdout",
     "output_type": "stream",
     "text": [
      "Hidden layer sizes: 20\n",
      "Train RMSE: 0.3972 +- 0.0014\n",
      "Validation RMSE: 0.4241 +- 0.0042\n",
      "\n",
      "Hidden layer sizes: 50\n",
      "Train RMSE: 0.3800 +- 0.0129\n",
      "Validation RMSE: 0.4317 +- 0.0106\n",
      "\n",
      "Hidden layer sizes: 80\n",
      "Train RMSE: 0.3593 +- 0.0114\n",
      "Validation RMSE: 0.4361 +- 0.0091\n",
      "\n",
      "Hidden layer sizes: 110\n",
      "Train RMSE: 0.3517 +- 0.0215\n",
      "Validation RMSE: 0.4493 +- 0.0218\n",
      "\n",
      "Hidden layer sizes: 140\n",
      "Train RMSE: 0.3323 +- 0.0100\n",
      "Validation RMSE: 0.4426 +- 0.0082\n",
      "\n",
      "Hidden layer sizes: 170\n",
      "Train RMSE: 0.3193 +- 0.0082\n",
      "Validation RMSE: 0.4430 +- 0.0057\n",
      "\n",
      "Hidden layer sizes: 200\n",
      "Train RMSE: 0.3071 +- 0.0264\n",
      "Validation RMSE: 0.4609 +- 0.0145\n",
      "\n"
     ]
    }
   ],
   "source": [
    "hidden_layer_sizes = [i for i in range(20, 201, 30)]\n",
    "for hidden_layer_size in hidden_layer_sizes:\n",
    "    model = MLPRegressor(hidden_layer_sizes=hidden_layer_size, random_state=SEED)\n",
    "    train_scores, validation_scores = perform_cv_scaling(train_data[list(best_subset)], train_data[target_feature], model, cv=KFold(n_splits=5, shuffle=True, random_state=SEED), metric=root_mean_squared_error, scaler=scaler, features_to_scale=list(features_to_scale), target_to_scale=False)\n",
    "    print(f\"Hidden layer sizes: {hidden_layer_size}\")\n",
    "    print(f\"Train {compare_metric_name}: {np.mean(train_scores):.4f} +- {np.std(train_scores):.4f}\")\n",
    "    print(f\"Validation {compare_metric_name}: {np.mean(validation_scores):.4f} +- {np.std(validation_scores):.4f}\\n\")"
   ]
  },
  {
   "cell_type": "markdown",
   "metadata": {},
   "source": [
    "The higher the number of neurons, the more complex the model will be and the more likely it will overfit.\n",
    "\n",
    "Based on above scores optimal number of neurons is 80, but I will try to make some more layers (currently only 1 layer is used)."
   ]
  },
  {
   "cell_type": "code",
   "execution_count": 17,
   "metadata": {},
   "outputs": [
    {
     "name": "stdout",
     "output_type": "stream",
     "text": [
      "Hidden layer sizes: (20, 20)\n",
      "Train RMSE: 0.3933 +- 0.0041\n",
      "Validation RMSE: 0.4293 +- 0.0064\n",
      "\n",
      "Hidden layer sizes: (50, 50)\n",
      "Train RMSE: 0.3277 +- 0.0062\n",
      "Validation RMSE: 0.4387 +- 0.0082\n",
      "\n",
      "Hidden layer sizes: (80, 80)\n",
      "Train RMSE: 0.2724 +- 0.0095\n",
      "Validation RMSE: 0.4668 +- 0.0034\n",
      "\n",
      "Hidden layer sizes: (20, 20, 20)\n",
      "Train RMSE: 0.3828 +- 0.0098\n",
      "Validation RMSE: 0.4334 +- 0.0094\n",
      "\n",
      "Hidden layer sizes: (50, 50, 50)\n",
      "Train RMSE: 0.2962 +- 0.0080\n",
      "Validation RMSE: 0.4584 +- 0.0058\n",
      "\n",
      "Hidden layer sizes: (80, 80, 80)\n",
      "Train RMSE: 0.2262 +- 0.0164\n",
      "Validation RMSE: 0.4900 +- 0.0096\n",
      "\n"
     ]
    }
   ],
   "source": [
    "hidden_layer_sizes = [(20, 20), (50, 50), (80, 80), (20, 20, 20), (50, 50, 50), (80, 80, 80)]\n",
    "for hidden_layer_size in hidden_layer_sizes:\n",
    "    model = MLPRegressor(hidden_layer_sizes=hidden_layer_size, random_state=SEED)\n",
    "    train_scores, validation_scores = perform_cv_scaling(train_data[list(best_subset)], train_data[target_feature], model, cv=KFold(n_splits=5, shuffle=True, random_state=SEED), metric=root_mean_squared_error, scaler=scaler, features_to_scale=list(features_to_scale), target_to_scale=False)\n",
    "    print(f\"Hidden layer sizes: {hidden_layer_size}\")\n",
    "    print(f\"Train {compare_metric_name}: {np.mean(train_scores):.4f} +- {np.std(train_scores):.4f}\")\n",
    "    print(f\"Validation {compare_metric_name}: {np.mean(validation_scores):.4f} +- {np.std(validation_scores):.4f}\\n\")"
   ]
  },
  {
   "cell_type": "markdown",
   "metadata": {},
   "source": [
    "As we can see higher number of layers leads to overfitting.\n",
    "\n",
    "Currently I will stick to 1 layer and try to tune number of neurons in smaller range of [30, 80]."
   ]
  },
  {
   "cell_type": "code",
   "execution_count": 18,
   "metadata": {},
   "outputs": [
    {
     "name": "stdout",
     "output_type": "stream",
     "text": [
      "Hidden layer sizes: 30\n",
      "Train RMSE: 0.3931 +- 0.0014\n",
      "Validation RMSE: 0.4302 +- 0.0058\n",
      "\n",
      "Hidden layer sizes: 40\n",
      "Train RMSE: 0.3831 +- 0.0083\n",
      "Validation RMSE: 0.4310 +- 0.0061\n",
      "\n",
      "Hidden layer sizes: 50\n",
      "Train RMSE: 0.3800 +- 0.0129\n",
      "Validation RMSE: 0.4317 +- 0.0106\n",
      "\n",
      "Hidden layer sizes: 60\n",
      "Train RMSE: 0.3704 +- 0.0070\n",
      "Validation RMSE: 0.4289 +- 0.0034\n",
      "\n",
      "Hidden layer sizes: 70\n",
      "Train RMSE: 0.3736 +- 0.0288\n",
      "Validation RMSE: 0.4417 +- 0.0247\n",
      "\n",
      "Hidden layer sizes: 80\n",
      "Train RMSE: 0.3593 +- 0.0114\n",
      "Validation RMSE: 0.4361 +- 0.0091\n",
      "\n"
     ]
    }
   ],
   "source": [
    "hidden_layer_sizes = [i for i in range(30, 81, 10)]\n",
    "for hidden_layer_size in hidden_layer_sizes:\n",
    "    model = MLPRegressor(hidden_layer_sizes=hidden_layer_size, random_state=SEED)\n",
    "    train_scores, validation_scores = perform_cv_scaling(train_data[list(best_subset)], train_data[target_feature], model, cv=KFold(n_splits=5, shuffle=True, random_state=SEED), metric=root_mean_squared_error, scaler=scaler, features_to_scale=list(features_to_scale), target_to_scale=False)\n",
    "    print(f\"Hidden layer sizes: {hidden_layer_size}\")\n",
    "    print(f\"Train {compare_metric_name}: {np.mean(train_scores):.4f} +- {np.std(train_scores):.4f}\")\n",
    "    print(f\"Validation {compare_metric_name}: {np.mean(validation_scores):.4f} +- {np.std(validation_scores):.4f}\\n\")"
   ]
  },
  {
   "cell_type": "markdown",
   "metadata": {},
   "source": [
    "Best validation score is obtained for 60 neurons."
   ]
  },
  {
   "cell_type": "code",
   "execution_count": 16,
   "metadata": {},
   "outputs": [],
   "source": [
    "best_hidden_layer_sizes = 60"
   ]
  },
  {
   "cell_type": "markdown",
   "metadata": {},
   "source": [
    "## `activation`"
   ]
  },
  {
   "cell_type": "markdown",
   "metadata": {},
   "source": [
    "`activation` is a parameter that defines the activation function for the hidden layer."
   ]
  },
  {
   "cell_type": "code",
   "execution_count": 20,
   "metadata": {},
   "outputs": [
    {
     "name": "stdout",
     "output_type": "stream",
     "text": [
      "Activation: identity\n",
      "Train RMSE: 0.5054 +- 0.0183\n",
      "Validation RMSE: 0.5081 +- 0.0244\n",
      "\n",
      "Activation: logistic\n",
      "Train RMSE: 0.3646 +- 0.0022\n",
      "Validation RMSE: 0.4115 +- 0.0049\n",
      "\n",
      "Activation: tanh\n",
      "Train RMSE: 0.3517 +- 0.0025\n",
      "Validation RMSE: 0.4238 +- 0.0052\n",
      "\n",
      "Activation: relu\n",
      "Train RMSE: 0.3704 +- 0.0070\n",
      "Validation RMSE: 0.4289 +- 0.0034\n",
      "\n"
     ]
    }
   ],
   "source": [
    "activations = ['identity', 'logistic', 'tanh', 'relu']\n",
    "for activation in activations:\n",
    "    model = MLPRegressor(hidden_layer_sizes=best_hidden_layer_sizes, activation=activation, random_state=SEED)\n",
    "    train_scores, validation_scores = perform_cv_scaling(train_data[list(best_subset)], train_data[target_feature], model, cv=KFold(n_splits=5, shuffle=True, random_state=SEED), metric=root_mean_squared_error, scaler=scaler, features_to_scale=list(features_to_scale), target_to_scale=False)\n",
    "    print(f\"Activation: {activation}\")\n",
    "    print(f\"Train {compare_metric_name}: {np.mean(train_scores):.4f} +- {np.std(train_scores):.4f}\")\n",
    "    print(f\"Validation {compare_metric_name}: {np.mean(validation_scores):.4f} +- {np.std(validation_scores):.4f}\\n\")"
   ]
  },
  {
   "cell_type": "markdown",
   "metadata": {},
   "source": [
    "Best values were obtained for logistic activation function."
   ]
  },
  {
   "cell_type": "code",
   "execution_count": 17,
   "metadata": {},
   "outputs": [],
   "source": [
    "best_activation = 'logistic'"
   ]
  },
  {
   "cell_type": "markdown",
   "metadata": {},
   "source": [
    "## `solver`"
   ]
  },
  {
   "cell_type": "markdown",
   "metadata": {},
   "source": [
    "`solver` is a parameter that defines the optimization algorithm for the model."
   ]
  },
  {
   "cell_type": "code",
   "execution_count": 22,
   "metadata": {},
   "outputs": [
    {
     "name": "stdout",
     "output_type": "stream",
     "text": [
      "Solver: lbfgs\n",
      "Train RMSE: 0.4092 +- 0.0020\n",
      "Validation RMSE: 0.4220 +- 0.0065\n",
      "\n",
      "Solver: sgd\n",
      "Train RMSE: 0.4757 +- 0.0032\n",
      "Validation RMSE: 0.4778 +- 0.0077\n",
      "\n",
      "Solver: adam\n",
      "Train RMSE: 0.3646 +- 0.0022\n",
      "Validation RMSE: 0.4115 +- 0.0049\n",
      "\n"
     ]
    }
   ],
   "source": [
    "solvers = ['lbfgs', 'sgd', 'adam']\n",
    "for solver in solvers:\n",
    "    model = MLPRegressor(hidden_layer_sizes=best_hidden_layer_sizes, activation=best_activation, solver=solver, random_state=SEED)\n",
    "    train_scores, validation_scores = perform_cv_scaling(train_data[list(best_subset)], train_data[target_feature], model, cv=KFold(n_splits=5, shuffle=True, random_state=SEED), metric=root_mean_squared_error, scaler=scaler, features_to_scale=list(features_to_scale), target_to_scale=False)\n",
    "    print(f\"Solver: {solver}\")\n",
    "    print(f\"Train {compare_metric_name}: {np.mean(train_scores):.4f} +- {np.std(train_scores):.4f}\")\n",
    "    print(f\"Validation {compare_metric_name}: {np.mean(validation_scores):.4f} +- {np.std(validation_scores):.4f}\\n\")"
   ]
  },
  {
   "cell_type": "markdown",
   "metadata": {},
   "source": [
    "As we can see the best validation score is obtained for `adam` solver."
   ]
  },
  {
   "cell_type": "code",
   "execution_count": 18,
   "metadata": {},
   "outputs": [],
   "source": [
    "best_solver = 'adam'"
   ]
  },
  {
   "cell_type": "markdown",
   "metadata": {},
   "source": [
    "## `alpha`"
   ]
  },
  {
   "cell_type": "markdown",
   "metadata": {},
   "source": [
    "`alpha` is a parameter that defines the regularization strength for the model.\n",
    "\n",
    "It is used to prevent overfitting by adding a penalty to the weights (L2 regularization, known as weight decay)."
   ]
  },
  {
   "cell_type": "code",
   "execution_count": 24,
   "metadata": {},
   "outputs": [
    {
     "name": "stdout",
     "output_type": "stream",
     "text": [
      "Alpha: 1e-05\n",
      "Train RMSE: 0.3644 +- 0.0022\n",
      "Validation RMSE: 0.4114 +- 0.0049\n",
      "\n",
      "Alpha: 0.0001\n",
      "Train RMSE: 0.3646 +- 0.0022\n",
      "Validation RMSE: 0.4115 +- 0.0049\n",
      "\n",
      "Alpha: 0.001\n",
      "Train RMSE: 0.3669 +- 0.0023\n",
      "Validation RMSE: 0.4111 +- 0.0051\n",
      "\n",
      "Alpha: 0.01\n",
      "Train RMSE: 0.3822 +- 0.0026\n",
      "Validation RMSE: 0.4115 +- 0.0048\n",
      "\n",
      "Alpha: 0.1\n",
      "Train RMSE: 0.4213 +- 0.0030\n",
      "Validation RMSE: 0.4294 +- 0.0045\n",
      "\n",
      "Alpha: 1\n",
      "Train RMSE: 0.4883 +- 0.0019\n",
      "Validation RMSE: 0.4892 +- 0.0055\n",
      "\n",
      "Alpha: 10\n",
      "Train RMSE: 0.5522 +- 0.0034\n",
      "Validation RMSE: 0.5526 +- 0.0096\n",
      "\n",
      "Alpha: 100\n",
      "Train RMSE: 0.7943 +- 0.0038\n",
      "Validation RMSE: 0.7942 +- 0.0147\n",
      "\n"
     ]
    }
   ],
   "source": [
    "alphas = [10**i for i in range(-5, 3)]\n",
    "for alpha in alphas:\n",
    "    model = MLPRegressor(hidden_layer_sizes=best_hidden_layer_sizes, activation=best_activation, solver=best_solver, alpha=alpha, random_state=SEED)\n",
    "    train_scores, validation_scores = perform_cv_scaling(train_data[list(best_subset)], train_data[target_feature], model, cv=KFold(n_splits=5, shuffle=True, random_state=SEED), metric=root_mean_squared_error, scaler=scaler, features_to_scale=list(features_to_scale), target_to_scale=False)\n",
    "    print(f\"Alpha: {alpha}\")\n",
    "    print(f\"Train {compare_metric_name}: {np.mean(train_scores):.4f} +- {np.std(train_scores):.4f}\")\n",
    "    print(f\"Validation {compare_metric_name}: {np.mean(validation_scores):.4f} +- {np.std(validation_scores):.4f}\\n\")"
   ]
  },
  {
   "cell_type": "markdown",
   "metadata": {},
   "source": [
    "Higher values of alpha will lead to underfitting, while lower values will lead to overfitting.\n",
    "\n",
    "Range of alpha [0.0001, 0.01] will be tested."
   ]
  },
  {
   "cell_type": "code",
   "execution_count": 25,
   "metadata": {},
   "outputs": [
    {
     "name": "stdout",
     "output_type": "stream",
     "text": [
      "Alpha: 0.0001\n",
      "Train RMSE: 0.3646 +- 0.0022\n",
      "Validation RMSE: 0.4115 +- 0.0049\n",
      "\n",
      "Alpha: 0.0012000000000000001\n",
      "Train RMSE: 0.3673 +- 0.0023\n",
      "Validation RMSE: 0.4111 +- 0.0052\n",
      "\n",
      "Alpha: 0.0023\n",
      "Train RMSE: 0.3697 +- 0.0022\n",
      "Validation RMSE: 0.4107 +- 0.0054\n",
      "\n",
      "Alpha: 0.0034\n",
      "Train RMSE: 0.3722 +- 0.0023\n",
      "Validation RMSE: 0.4105 +- 0.0052\n",
      "\n",
      "Alpha: 0.0045000000000000005\n",
      "Train RMSE: 0.3743 +- 0.0024\n",
      "Validation RMSE: 0.4105 +- 0.0051\n",
      "\n",
      "Alpha: 0.005600000000000001\n",
      "Train RMSE: 0.3762 +- 0.0024\n",
      "Validation RMSE: 0.4106 +- 0.0050\n",
      "\n",
      "Alpha: 0.0067\n",
      "Train RMSE: 0.3780 +- 0.0024\n",
      "Validation RMSE: 0.4108 +- 0.0051\n",
      "\n",
      "Alpha: 0.0078000000000000005\n",
      "Train RMSE: 0.3795 +- 0.0025\n",
      "Validation RMSE: 0.4110 +- 0.0050\n",
      "\n",
      "Alpha: 0.0089\n",
      "Train RMSE: 0.3809 +- 0.0025\n",
      "Validation RMSE: 0.4113 +- 0.0049\n",
      "\n",
      "Alpha: 0.01\n",
      "Train RMSE: 0.3822 +- 0.0026\n",
      "Validation RMSE: 0.4115 +- 0.0048\n",
      "\n"
     ]
    }
   ],
   "source": [
    "alphas = np.linspace(0.0001, 0.01, 10)\n",
    "for alpha in alphas:\n",
    "    model = MLPRegressor(hidden_layer_sizes=best_hidden_layer_sizes, activation=best_activation, solver=best_solver, alpha=alpha, random_state=SEED)\n",
    "    train_scores, validation_scores = perform_cv_scaling(train_data[list(best_subset)], train_data[target_feature], model, cv=KFold(n_splits=5, shuffle=True, random_state=SEED), metric=root_mean_squared_error, scaler=scaler, features_to_scale=list(features_to_scale), target_to_scale=False)\n",
    "    print(f\"Alpha: {alpha}\")\n",
    "    print(f\"Train {compare_metric_name}: {np.mean(train_scores):.4f} +- {np.std(train_scores):.4f}\")\n",
    "    print(f\"Validation {compare_metric_name}: {np.mean(validation_scores):.4f} +- {np.std(validation_scores):.4f}\\n\")"
   ]
  },
  {
   "cell_type": "markdown",
   "metadata": {},
   "source": [
    "Differences are marginal, but the best validation score is obtained for alpha = 0.0023."
   ]
  },
  {
   "cell_type": "code",
   "execution_count": 19,
   "metadata": {},
   "outputs": [],
   "source": [
    "best_alpha = 0.0023"
   ]
  },
  {
   "cell_type": "markdown",
   "metadata": {},
   "source": [
    "## `learning_rate`"
   ]
  },
  {
   "cell_type": "markdown",
   "metadata": {},
   "source": [
    "`learning_rate` is a parameter that defines the learning rate for the model, which can be defined as strength of weight updates."
   ]
  },
  {
   "cell_type": "code",
   "execution_count": 27,
   "metadata": {},
   "outputs": [
    {
     "name": "stdout",
     "output_type": "stream",
     "text": [
      "Learning rate: 1e-05\n",
      "Train RMSE: 0.5256 +- 0.0020\n",
      "Validation RMSE: 0.5266 +- 0.0065\n",
      "\n",
      "Learning rate: 0.0001\n",
      "Train RMSE: 0.4413 +- 0.0022\n",
      "Validation RMSE: 0.4463 +- 0.0048\n",
      "\n",
      "Learning rate: 0.001\n",
      "Train RMSE: 0.3697 +- 0.0022\n",
      "Validation RMSE: 0.4107 +- 0.0054\n",
      "\n",
      "Learning rate: 0.01\n",
      "Train RMSE: 0.3807 +- 0.0279\n",
      "Validation RMSE: 0.4356 +- 0.0275\n",
      "\n",
      "Learning rate: 0.1\n",
      "Train RMSE: 0.4978 +- 0.0658\n",
      "Validation RMSE: 0.5109 +- 0.0595\n",
      "\n",
      "Learning rate: 1\n",
      "Train RMSE: 0.7042 +- 0.1423\n",
      "Validation RMSE: 0.7052 +- 0.1454\n",
      "\n"
     ]
    }
   ],
   "source": [
    "learning_rates = [10**i for i in range(-5, 1)]\n",
    "for learning_rate in learning_rates:\n",
    "    model = MLPRegressor(hidden_layer_sizes=best_hidden_layer_sizes, activation=best_activation, solver=best_solver, alpha=best_alpha, learning_rate_init=learning_rate, random_state=SEED)\n",
    "    train_scores, validation_scores = perform_cv_scaling(train_data[list(best_subset)], train_data[target_feature], model, cv=KFold(n_splits=5, shuffle=True, random_state=SEED), metric=root_mean_squared_error, scaler=scaler, features_to_scale=list(features_to_scale), target_to_scale=False)\n",
    "    print(f\"Learning rate: {learning_rate}\")\n",
    "    print(f\"Train {compare_metric_name}: {np.mean(train_scores):.4f} +- {np.std(train_scores):.4f}\")\n",
    "    print(f\"Validation {compare_metric_name}: {np.mean(validation_scores):.4f} +- {np.std(validation_scores):.4f}\\n\")"
   ]
  },
  {
   "cell_type": "markdown",
   "metadata": {},
   "source": [
    "Best values were obtained for default learning rate."
   ]
  },
  {
   "cell_type": "code",
   "execution_count": 20,
   "metadata": {},
   "outputs": [],
   "source": [
    "best_learning_rate = 0.001"
   ]
  },
  {
   "cell_type": "markdown",
   "metadata": {},
   "source": [
    "## `max_iter`"
   ]
  },
  {
   "cell_type": "markdown",
   "metadata": {},
   "source": [
    "`max_iter` is a parameter that defines the maximum number of iterations for the model."
   ]
  },
  {
   "cell_type": "code",
   "execution_count": 29,
   "metadata": {},
   "outputs": [
    {
     "name": "stdout",
     "output_type": "stream",
     "text": [
      "Max iterations: 100\n",
      "Train RMSE: 0.3971 +- 0.0023\n",
      "Validation RMSE: 0.4158 +- 0.0060\n",
      "\n",
      "Max iterations: 200\n",
      "Train RMSE: 0.3697 +- 0.0022\n",
      "Validation RMSE: 0.4107 +- 0.0054\n",
      "\n",
      "Max iterations: 300\n",
      "Train RMSE: 0.3574 +- 0.0037\n",
      "Validation RMSE: 0.4135 +- 0.0051\n",
      "\n",
      "Max iterations: 400\n",
      "Train RMSE: 0.3561 +- 0.0045\n",
      "Validation RMSE: 0.4145 +- 0.0069\n",
      "\n",
      "Max iterations: 500\n",
      "Train RMSE: 0.3561 +- 0.0045\n",
      "Validation RMSE: 0.4145 +- 0.0069\n",
      "\n",
      "Max iterations: 600\n",
      "Train RMSE: 0.3561 +- 0.0045\n",
      "Validation RMSE: 0.4145 +- 0.0069\n",
      "\n",
      "Max iterations: 700\n",
      "Train RMSE: 0.3561 +- 0.0045\n",
      "Validation RMSE: 0.4145 +- 0.0069\n",
      "\n",
      "Max iterations: 800\n",
      "Train RMSE: 0.3561 +- 0.0045\n",
      "Validation RMSE: 0.4145 +- 0.0069\n",
      "\n",
      "Max iterations: 900\n",
      "Train RMSE: 0.3561 +- 0.0045\n",
      "Validation RMSE: 0.4145 +- 0.0069\n",
      "\n",
      "Max iterations: 1000\n",
      "Train RMSE: 0.3561 +- 0.0045\n",
      "Validation RMSE: 0.4145 +- 0.0069\n",
      "\n"
     ]
    }
   ],
   "source": [
    "max_iters = [i for i in range(100, 1001, 100)]\n",
    "for max_iter in max_iters:\n",
    "    model = MLPRegressor(hidden_layer_sizes=best_hidden_layer_sizes, activation=best_activation, solver=best_solver, alpha=best_alpha, learning_rate_init=best_learning_rate, max_iter=max_iter, random_state=SEED)\n",
    "    train_scores, validation_scores = perform_cv_scaling(train_data[list(best_subset)], train_data[target_feature], model, cv=KFold(n_splits=5, shuffle=True, random_state=SEED), metric=root_mean_squared_error, scaler=scaler, features_to_scale=list(features_to_scale), target_to_scale=False)\n",
    "    print(f\"Max iterations: {max_iter}\")\n",
    "    print(f\"Train {compare_metric_name}: {np.mean(train_scores):.4f} +- {np.std(train_scores):.4f}\")\n",
    "    print(f\"Validation {compare_metric_name}: {np.mean(validation_scores):.4f} +- {np.std(validation_scores):.4f}\\n\")"
   ]
  },
  {
   "cell_type": "markdown",
   "metadata": {},
   "source": [
    "As we can see there is no need to increase the number of iterations more than 300, as the results are the same.\n",
    "\n",
    "This means that the model has already converged and increasing the number of iterations will not change the results.\n",
    "\n",
    "It looks like the best validation score is obtained for 200 iterations."
   ]
  },
  {
   "cell_type": "code",
   "execution_count": 21,
   "metadata": {},
   "outputs": [],
   "source": [
    "best_max_iter = 200"
   ]
  },
  {
   "cell_type": "markdown",
   "metadata": {},
   "source": [
    "## Automated Hyperparameter Tuning"
   ]
  },
  {
   "cell_type": "markdown",
   "metadata": {},
   "source": [
    "Similarly to notebook with XGBoost model, I will use Optuna to tune the hyperparameters."
   ]
  },
  {
   "cell_type": "code",
   "execution_count": 16,
   "metadata": {},
   "outputs": [],
   "source": [
    "class RandomSearchCV:\n",
    "    \"\"\"\n",
    "    This class is used to optimize the hyperparameters of the algorithm using Random Search.\n",
    "    \"\"\"\n",
    "\n",
    "    def __init__(\n",
    "        self,\n",
    "        algorithm: Any,\n",
    "        metric: str,\n",
    "        cv: sklearn.model_selection = KFold(n_splits=5, shuffle=True, random_state=SEED),\n",
    "        n_trials: int = 100,\n",
    "        seed: int = 17,\n",
    "    ) -> None:\n",
    "        \"\"\"\n",
    "        Initializes the RandomSearchCV class.\n",
    "\n",
    "        Args:\n",
    "            algorithm (Any): algorithm to use for optimization.\n",
    "            metric (str): metric to use for optimization.\n",
    "            cv (sklearn.model_selection, default=KFold(n_splits=5, shuffle=True, random_state=SEED)): cross-validation strategy.\n",
    "            n_trials (int): number of trials to perform.\n",
    "            seed (int): random seed.\n",
    "        \"\"\"\n",
    "        self.algorithm = algorithm\n",
    "        metrics = {\n",
    "            \"accuracy\": [lambda y, y_pred: accuracy_score(y, y_pred), \"preds\", \"maximize\"],\n",
    "            \"roc_auc\": [lambda y, y_pred: roc_auc_score(y, y_pred), \"probs\", \"maximize\"],\n",
    "            \"mse\": [lambda y, y_pred: mean_squared_error(y, y_pred), \"preds\", \"minimize\"],\n",
    "            \"rmse\": [\n",
    "                lambda y, y_pred: root_mean_squared_error(y, y_pred),\n",
    "                \"preds\", \"minimize\"\n",
    "            ],\n",
    "            \"mae\": [lambda y, y_pred: mean_absolute_error(y, y_pred), \"preds\", \"minimize\"],\n",
    "        }\n",
    "        if metric not in metrics:\n",
    "            raise ValueError(\"Unsupported metric: {}\".format(metric))\n",
    "        self.eval_metric = metrics[metric][0]\n",
    "        self.metric_type = metrics[metric][1]\n",
    "        self.direction = metrics[metric][2]\n",
    "        self.cv = cv\n",
    "        self.n_trials = n_trials\n",
    "        self.seed = seed\n",
    "    \n",
    "    def check_X(\n",
    "        self, X: Union[pd.DataFrame, pd.Series, np.ndarray]\n",
    "    ) -> np.ndarray:\n",
    "        \"\"\"Check if X is pandas DataFrame, pandas Series or numpy array and convert it to numpy array.\n",
    "\n",
    "        Args:\n",
    "            X: (Union[pd.DataFrame, pd.Series, np.ndarray]): input data.\n",
    "\n",
    "        Returns:\n",
    "            X: (np.ndarray): converted input data.\n",
    "        \"\"\"\n",
    "        if (\n",
    "            not isinstance(X, pd.DataFrame)\n",
    "            and not isinstance(X, pd.Series)\n",
    "            and not isinstance(X, np.ndarray)\n",
    "        ):\n",
    "            raise TypeError(\n",
    "                \"Wrong type of X. It should be pandas DataFrame, pandas Series, numpy array.\"\n",
    "            )\n",
    "        X = np.array(X)\n",
    "        if X.ndim == 1:\n",
    "            X = X[None, :]\n",
    "        return X\n",
    "\n",
    "    def check_y(\n",
    "        self, y: Union[pd.DataFrame, pd.Series, np.ndarray]\n",
    "    ) -> np.ndarray:\n",
    "        \"\"\"Check if y is pandas DataFrame, pandas Series or numpy array and convert it to numpy array.\n",
    "\n",
    "        Args:\n",
    "            y: (Union[pd.DataFrame, pd.Series, np.ndarray]): target data.\n",
    "\n",
    "        Returns:\n",
    "            y: (np.ndarray): converted target data.\n",
    "        \"\"\"\n",
    "        if (\n",
    "            not isinstance(y, pd.DataFrame)\n",
    "            and not isinstance(y, pd.Series)\n",
    "            and not isinstance(y, np.ndarray)\n",
    "        ):\n",
    "            raise TypeError(\n",
    "                \"Wrong type of y. It should be pandas DataFrame, pandas Series, numpy array.\"\n",
    "            )\n",
    "        y = np.array(y)\n",
    "        if y.ndim != 1:\n",
    "            y = y.squeeze()\n",
    "        return y\n",
    "\n",
    "    def check_for_object_columns(self, X: np.ndarray) -> np.ndarray:\n",
    "        \"\"\"Check if X contains object columns and convert it to numeric data.\n",
    "\n",
    "        Args:\n",
    "            X: (np.ndarray): input data.\n",
    "\n",
    "        Returns:\n",
    "            X: (np.ndarray): converted input data.\n",
    "        \"\"\"\n",
    "        X = pd.DataFrame(X)\n",
    "        if X.select_dtypes(include=np.number).shape[1] != X.shape[1]:\n",
    "            raise TypeError(\n",
    "                \"Your data contains object or string columns. Numeric data is obligated.\"\n",
    "            )\n",
    "        return np.array(X)\n",
    "\n",
    "    def tune(\n",
    "        self,\n",
    "        X: pd.DataFrame,\n",
    "        y: pd.Series,\n",
    "        params_grid: Dict[str, Tuple[str, List[Any]]],\n",
    "        X_valid: pd.DataFrame = None,\n",
    "        y_valid: pd.Series = None,\n",
    "    ) -> Dict[str, Any]:\n",
    "        \"\"\"\n",
    "        This method tunes the algorithm hyperparameters.\n",
    "\n",
    "        Args:\n",
    "            X (pd.DataFrame): input data.\n",
    "            y (pd.Series): target data.\n",
    "            params_grid (Dict[str, Tuple[str, List[Any]]]): hyperparameters grid.\n",
    "            X_valid (pd.DataFrame): validation data (default is None).\n",
    "            y_valid (pd.Series): validation labels (default is None).\n",
    "\n",
    "        Returns:\n",
    "            Dict[str, Any]: best hyperparameters.\n",
    "        \"\"\"\n",
    "        self.params_grid = params_grid\n",
    "        study = self.create_study()\n",
    "        X = self.check_X(X)\n",
    "        X = self.check_for_object_columns(X)\n",
    "        y = self.check_y(y)\n",
    "        if X_valid is not None and y_valid is not None:\n",
    "            X_valid = self.check_X(X_valid)\n",
    "            y_valid = self.check_y(y_valid)\n",
    "            X_valid = self.check_for_object_columns(X_valid)\n",
    "            study.optimize(\n",
    "                lambda trial: self.objective(trial, X, y, X_valid, y_valid),\n",
    "                n_trials=self.n_trials,\n",
    "            )\n",
    "        else:\n",
    "            study.optimize(\n",
    "                lambda trial: self.objective_cv(trial, X, y),\n",
    "                n_trials=self.n_trials,\n",
    "            )\n",
    "        return study.best_params\n",
    "    \n",
    "    def create_study(self,) -> optuna.study.Study:\n",
    "        \"\"\"This method creates an optuna study object.\n",
    "\n",
    "        Returns:\n",
    "            optuna.study.Study: optuna study object.\n",
    "        \"\"\"\n",
    "        sampler = optuna.samplers.TPESampler(seed=self.seed)\n",
    "        return optuna.create_study(direction=self.direction, sampler=sampler)\n",
    "    \n",
    "    def objective(self, trial: optuna.Trial, X_train: np.ndarray, y_train: np.ndarray, X_valid: np.ndarray, y_valid: np.ndarray) -> float:\n",
    "        \"\"\"\n",
    "        This method defines the objective function for optimization when validation data is provided.\n",
    "\n",
    "        Args:\n",
    "            trial (optuna.Trial): trial object.\n",
    "            X_train (np.ndarray): input data.\n",
    "            y_train (np.ndarray): target data.\n",
    "            X_valid (np.ndarray): validation data.\n",
    "            y_valid (np.ndarray): validation labels.\n",
    "        \n",
    "        Returns:\n",
    "            float: Validation score.\n",
    "        \"\"\"\n",
    "        params = {param_name: self.get_param(trial, param_name, param_values) for param_name, param_values in self.params_grid.items()}\n",
    "        self.algorithm = self.algorithm.set_params(**params)\n",
    "        model.fit(X_train, y_train)\n",
    "        y_valid_pred = model.predict(X_valid)\n",
    "        return self.eval_metric(y_valid, y_valid_pred)\n",
    "    \n",
    "    def objective_cv(self, trial: optuna.Trial, X: np.ndarray, y: np.ndarray) -> float:\n",
    "        \"\"\"\n",
    "        This method defines the objective function for optimization when validation data is not provided.\n",
    "\n",
    "        Args:\n",
    "            trial (optuna.Trial): trial object.\n",
    "            X (np.ndarray): input data.\n",
    "            y (np.ndarray): target data.\n",
    "        \n",
    "        Returns:\n",
    "            float: Cross-validation score.\n",
    "        \"\"\"\n",
    "        params = {param_name: self.get_param(trial, param_name, param_values) for param_name, param_values in self.params_grid.items()}\n",
    "        self.algorithm = self.algorithm.set_params(**params)\n",
    "        return self.perform_cv(X, y)\n",
    "\n",
    "    \n",
    "    def get_param(self, trial: optuna.Trial, param_name: str, param_values: Tuple[str, List[Any]]) -> Any:\n",
    "        \"\"\"\n",
    "        This method converts the parameter values to the optuna parameter suggestion.\n",
    "\n",
    "        Args:\n",
    "            trial (optuna.Trial): trial object.\n",
    "            param_name (str): parameter name.\n",
    "            param_values (Tuple[str, List[Any]]): parameter values.\n",
    "\n",
    "        Returns:\n",
    "            typing.Any: parameter suggestion.\n",
    "        \"\"\"\n",
    "        param_type, param_value = param_values\n",
    "        if param_type == \"int\":\n",
    "            return trial.suggest_int(param_name, low=param_value[0], high=param_value[1])\n",
    "        elif param_type == \"float\":\n",
    "            return trial.suggest_float(param_name, low=param_value[0], high=param_value[1])\n",
    "        elif param_type == \"categorical\":\n",
    "            return trial.suggest_categorical(param_name, param_value)\n",
    "        elif param_type == \"constant\":\n",
    "            return trial.suggest_categorical(param_name, [param_value])\n",
    "\n",
    "    def perform_cv(self, X: np.ndarray, y: np.ndarray) -> float:\n",
    "        \"\"\"This method performs cross-validation.\n",
    "\n",
    "        Args:\n",
    "            X: (np.ndarray): input data.\n",
    "            y: (np.ndarray): target data.\n",
    "\n",
    "        Returns:\n",
    "            float: cross-validation score.\n",
    "        \"\"\"\n",
    "        valid_scores = []\n",
    "        for train_idx, valid_idx in self.cv.split(X):\n",
    "            X_train_cv, X_valid_cv = X[train_idx], X[valid_idx]\n",
    "            y_train_cv, y_valid_cv = y[train_idx], y[valid_idx]\n",
    "            self.algorithm.fit(X_train_cv, y_train_cv)\n",
    "            if self.metric_type == \"preds\":\n",
    "                y_valid_pred = self.algorithm.predict(X_valid_cv)\n",
    "            else:\n",
    "                y_valid_pred = self.algorithm.predict_proba(X_valid_cv)[:, 1]\n",
    "            valid_scores.append(self.eval_metric(y_valid_cv, y_valid_pred))\n",
    "        return np.mean(valid_scores)"
   ]
  },
  {
   "cell_type": "code",
   "execution_count": null,
   "metadata": {},
   "outputs": [
    {
     "name": "stderr",
     "output_type": "stream",
     "text": [
      "[I 2025-01-16 18:34:54,078] A new study created in memory with name: no-name-43b2ceaa-f6ef-48c3-b0e7-080553cf9614\n",
      "[I 2025-01-16 18:35:14,357] Trial 0 finished with value: 0.4437284546502081 and parameters: {'hidden_layer_sizes': 36, 'activation': 'logistic', 'solver': 'lbfgs', 'alpha': 0.06378833751475922, 'learning_rate_init': 0.057564533346365875, 'max_iter': 107}. Best is trial 0 with value: 0.4437284546502081.\n",
      "[I 2025-01-16 18:36:01,855] Trial 1 finished with value: 0.4212630620007455 and parameters: {'hidden_layer_sizes': 42, 'activation': 'logistic', 'solver': 'lbfgs', 'alpha': 0.06527661968501892, 'learning_rate_init': 0.05517961934980119, 'max_iter': 220}. Best is trial 1 with value: 0.4212630620007455.\n",
      "[I 2025-01-16 18:36:19,888] Trial 2 finished with value: 0.46327346833419136 and parameters: {'hidden_layer_sizes': 54, 'activation': 'relu', 'solver': 'adam', 'alpha': 0.04190659009605311, 'learning_rate_init': 0.014398953038325035, 'max_iter': 130}. Best is trial 1 with value: 0.4212630620007455.\n",
      "[I 2025-01-16 18:36:31,091] Trial 3 finished with value: 0.43729843998472334 and parameters: {'hidden_layer_sizes': 15, 'activation': 'logistic', 'solver': 'lbfgs', 'alpha': 0.00832574094632683, 'learning_rate_init': 0.05450440740733274, 'max_iter': 131}. Best is trial 1 with value: 0.4212630620007455.\n",
      "[I 2025-01-16 18:36:56,456] Trial 4 finished with value: 0.42971608849483556 and parameters: {'hidden_layer_sizes': 71, 'activation': 'relu', 'solver': 'lbfgs', 'alpha': 0.09608269687103115, 'learning_rate_init': 0.06592394718367842, 'max_iter': 244}. Best is trial 1 with value: 0.4212630620007455.\n",
      "[I 2025-01-16 18:38:10,207] Trial 5 finished with value: 0.4249960570879178 and parameters: {'hidden_layer_sizes': 77, 'activation': 'logistic', 'solver': 'lbfgs', 'alpha': 0.0030127839523289043, 'learning_rate_init': 0.039043545382745695, 'max_iter': 187}. Best is trial 1 with value: 0.4212630620007455.\n",
      "[I 2025-01-16 18:38:19,347] Trial 6 finished with value: 0.5168501461254653 and parameters: {'hidden_layer_sizes': 57, 'activation': 'relu', 'solver': 'adam', 'alpha': 0.058119405026164125, 'learning_rate_init': 0.09543424317703686, 'max_iter': 139}. Best is trial 1 with value: 0.4212630620007455.\n",
      "[I 2025-01-16 18:38:24,157] Trial 7 finished with value: 0.4573548418394754 and parameters: {'hidden_layer_sizes': 17, 'activation': 'logistic', 'solver': 'adam', 'alpha': 0.09161939763031658, 'learning_rate_init': 0.02738858115984925, 'max_iter': 147}. Best is trial 1 with value: 0.4212630620007455.\n",
      "[I 2025-01-16 18:38:52,201] Trial 8 finished with value: 0.4306856739514264 and parameters: {'hidden_layer_sizes': 38, 'activation': 'logistic', 'solver': 'lbfgs', 'alpha': 0.07852986075726656, 'learning_rate_init': 0.035334592365544155, 'max_iter': 144}. Best is trial 1 with value: 0.4212630620007455.\n",
      "[I 2025-01-16 18:39:02,090] Trial 9 finished with value: 0.4613108038154918 and parameters: {'hidden_layer_sizes': 32, 'activation': 'logistic', 'solver': 'adam', 'alpha': 0.010706268351097538, 'learning_rate_init': 0.05736525768072575, 'max_iter': 293}. Best is trial 1 with value: 0.4212630620007455.\n",
      "[I 2025-01-16 18:39:35,572] Trial 10 finished with value: 0.4217668663778788 and parameters: {'hidden_layer_sizes': 90, 'activation': 'tanh', 'solver': 'lbfgs', 'alpha': 0.03889069687002154, 'learning_rate_init': 0.003651435589678495, 'max_iter': 228}. Best is trial 1 with value: 0.4212630620007455.\n",
      "[I 2025-01-16 18:40:07,826] Trial 11 finished with value: 0.4219924391219558 and parameters: {'hidden_layer_sizes': 89, 'activation': 'tanh', 'solver': 'lbfgs', 'alpha': 0.037353730009619064, 'learning_rate_init': 0.007242594628640921, 'max_iter': 225}. Best is trial 1 with value: 0.4212630620007455.\n"
     ]
    }
   ],
   "source": [
    "params_grid = {\n",
    "    \"hidden_layer_sizes\": (\"int\", [10, 100]),\n",
    "    \"activation\": (\"categorical\", [\"logistic\", \"tanh\", \"relu\"]),\n",
    "    \"solver\": (\"categorical\", [\"lbfgs\", \"adam\"]),\n",
    "    \"alpha\": (\"float\", [1e-4, 1e-1]),\n",
    "    \"learning_rate_init\": (\"float\", [1e-5, 1e-1]),\n",
    "    \"max_iter\": (\"int\", [100, 300]),\n",
    "}\n",
    "CV = RandomSearchCV(\n",
    "    algorithm=MLPRegressor(random_state=SEED),\n",
    "    metric=\"rmse\",\n",
    "    cv=KFold(n_splits=5, shuffle=True, random_state=SEED),\n",
    "    n_trials=100,\n",
    "    seed=SEED,\n",
    ")\n",
    "train_data_scaled = train_data.copy()\n",
    "train_data_scaled[list(continuous_features)] = scaler.fit_transform(train_data_scaled[list(continuous_features)])\n",
    "best_params = CV.tune(train_data_scaled[list(best_subset)], train_data_scaled[target_feature], params_grid)"
   ]
  },
  {
   "cell_type": "markdown",
   "metadata": {},
   "source": [
    "# Evaluate model"
   ]
  },
  {
   "cell_type": "code",
   "execution_count": 28,
   "metadata": {},
   "outputs": [
    {
     "data": {
      "text/html": [
       "<style type=\"text/css\">\n",
       "#T_8d40f_row0_col1, #T_8d40f_row1_col2, #T_8d40f_row1_col3 {\n",
       "  background-color: #fff5f0;\n",
       "  color: #000000;\n",
       "}\n",
       "#T_8d40f_row0_col2, #T_8d40f_row0_col3, #T_8d40f_row1_col1 {\n",
       "  background-color: #67000d;\n",
       "  color: #f1f1f1;\n",
       "}\n",
       "</style>\n",
       "<table id=\"T_8d40f\">\n",
       "  <thead>\n",
       "    <tr>\n",
       "      <th class=\"blank level0\" >&nbsp;</th>\n",
       "      <th id=\"T_8d40f_level0_col0\" class=\"col_heading level0 col0\" >model</th>\n",
       "      <th id=\"T_8d40f_level0_col1\" class=\"col_heading level0 col1\" >Train RMSE</th>\n",
       "      <th id=\"T_8d40f_level0_col2\" class=\"col_heading level0 col2\" >Validation RMSE</th>\n",
       "      <th id=\"T_8d40f_level0_col3\" class=\"col_heading level0 col3\" >Test RMSE</th>\n",
       "    </tr>\n",
       "  </thead>\n",
       "  <tbody>\n",
       "    <tr>\n",
       "      <th id=\"T_8d40f_level0_row0\" class=\"row_heading level0 row0\" >0</th>\n",
       "      <td id=\"T_8d40f_row0_col0\" class=\"data row0 col0\" >Base</td>\n",
       "      <td id=\"T_8d40f_row0_col1\" class=\"data row0 col1\" >0.295683</td>\n",
       "      <td id=\"T_8d40f_row0_col2\" class=\"data row0 col2\" >0.452497</td>\n",
       "      <td id=\"T_8d40f_row0_col3\" class=\"data row0 col3\" >0.451437</td>\n",
       "    </tr>\n",
       "    <tr>\n",
       "      <th id=\"T_8d40f_level0_row1\" class=\"row_heading level0 row1\" >1</th>\n",
       "      <td id=\"T_8d40f_row1_col0\" class=\"data row1 col0\" >Tuned</td>\n",
       "      <td id=\"T_8d40f_row1_col1\" class=\"data row1 col1\" >0.372270</td>\n",
       "      <td id=\"T_8d40f_row1_col2\" class=\"data row1 col2\" >0.411468</td>\n",
       "      <td id=\"T_8d40f_row1_col3\" class=\"data row1 col3\" >0.407244</td>\n",
       "    </tr>\n",
       "  </tbody>\n",
       "</table>\n"
      ],
      "text/plain": [
       "<pandas.io.formats.style.Styler at 0x2119b60ddd0>"
      ]
     },
     "execution_count": 28,
     "metadata": {},
     "output_type": "execute_result"
    }
   ],
   "source": [
    "#Base model\n",
    "model = MLPRegressor(random_state=SEED)\n",
    "base_train_scores, base_validation_scores = perform_cv_scaling(train_data[independent_features], train_data[target_feature], model, cv=KFold(n_splits=5, shuffle=True, random_state=SEED), metric=root_mean_squared_error, scaler=scaler, features_to_scale=continuous_features, target_to_scale=False)\n",
    "train_score, base_test_score, y_test_pred = evaluation_scaling(train_data[independent_features], train_data[target_feature], test_data[independent_features], test_data[target_feature], model, root_mean_squared_error, scaler, continuous_features, False)\n",
    "\n",
    "#Tuned model\n",
    "model = MLPRegressor(random_state=SEED, hidden_layer_sizes=best_hidden_layer_sizes, activation=best_activation, solver=best_solver, alpha=best_alpha, learning_rate_init=best_learning_rate, max_iter=best_max_iter)\n",
    "tuned_train_scores, tuned_validation_scores = perform_cv_scaling(train_data[list(best_subset)], train_data[target_feature], model, cv=KFold(n_splits=5, shuffle=True, random_state=SEED), metric=root_mean_squared_error, scaler=scaler, features_to_scale=list(features_to_scale), target_to_scale=False)\n",
    "tuned_train_score, tuned_test_score, tuned_y_test_pred = evaluation_scaling(train_data[list(best_subset)], train_data[target_feature], test_data[list(best_subset)], test_data[target_feature], model, root_mean_squared_error, scaler, features_to_scale=list(features_to_scale), target_to_scale=False)\n",
    "\n",
    "results = pd.DataFrame({'model': ['Base', 'Tuned'], f'Train {compare_metric_name}': [np.mean(base_train_scores), np.mean(tuned_train_scores)], f'Validation {compare_metric_name}': [np.mean(base_validation_scores), np.mean(tuned_validation_scores)], f'Test {compare_metric_name}': [base_test_score, tuned_test_score]})\n",
    "results.style.background_gradient(cmap='Reds', axis=0)"
   ]
  },
  {
   "cell_type": "markdown",
   "metadata": {},
   "source": [
    "## Save model"
   ]
  },
  {
   "cell_type": "code",
   "execution_count": 29,
   "metadata": {},
   "outputs": [],
   "source": [
    "test_indices = test_data.index\n",
    "model_NN = {\n",
    "    \"name\": \"Neural Network\",\n",
    "    \"train_results\": tuned_train_score,\n",
    "    \"test_results\": tuned_test_score,\n",
    "    \"predictions\": tuned_y_test_pred,\n",
    "    \"indices\": test_indices\n",
    "}\n",
    "with open('saved_models/model_NN.pkl', 'wb') as f:\n",
    "    pickle.dump(model_NN, f)"
   ]
  }
 ],
 "metadata": {
  "kernelspec": {
   "display_name": "Python 3",
   "language": "python",
   "name": "python3"
  },
  "language_info": {
   "codemirror_mode": {
    "name": "ipython",
    "version": 3
   },
   "file_extension": ".py",
   "mimetype": "text/x-python",
   "name": "python",
   "nbconvert_exporter": "python",
   "pygments_lexer": "ipython3",
   "version": "3.11.3"
  }
 },
 "nbformat": 4,
 "nbformat_minor": 2
}
